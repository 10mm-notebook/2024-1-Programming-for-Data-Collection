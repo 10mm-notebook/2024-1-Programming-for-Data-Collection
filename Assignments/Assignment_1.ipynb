{
  "nbformat": 4,
  "nbformat_minor": 0,
  "metadata": {
    "colab": {
      "provenance": []
    },
    "kernelspec": {
      "name": "python3",
      "display_name": "Python 3"
    },
    "language_info": {
      "name": "python"
    }
  },
  "cells": [
    {
      "cell_type": "code",
      "execution_count": 7,
      "metadata": {
        "colab": {
          "base_uri": "https://localhost:8080/"
        },
        "id": "AQNdq9WgxnRD",
        "outputId": "29cf33af-acd2-4061-cca2-0857f0493e1c"
      },
      "outputs": [
        {
          "output_type": "stream",
          "name": "stdout",
          "text": [
            "15.5\n"
          ]
        }
      ],
      "source": [
        "#Practice 1\n",
        "a=10\n",
        "b=10.5\n",
        "c=\"-5\"\n",
        "c=float(c)\n",
        "print(a+b+c)"
      ]
    },
    {
      "cell_type": "code",
      "source": [
        "#Practice 2\n",
        "dictionary={'a':3,'b':1,'c':-1}\n",
        "A='a b c'\n",
        "sum = 0\n",
        "for char in A.split():\n",
        "   sum += dictionary[char]\n",
        "\n",
        "print(sum)"
      ],
      "metadata": {
        "colab": {
          "base_uri": "https://localhost:8080/"
        },
        "id": "dqPQsZO9yM2J",
        "outputId": "f4200059-91fa-46eb-a462-980a8ca23751"
      },
      "execution_count": 8,
      "outputs": [
        {
          "output_type": "stream",
          "name": "stdout",
          "text": [
            "3\n"
          ]
        }
      ]
    }
  ]
}