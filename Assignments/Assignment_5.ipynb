{
  "nbformat": 4,
  "nbformat_minor": 0,
  "metadata": {
    "colab": {
      "provenance": []
    },
    "kernelspec": {
      "name": "python3",
      "display_name": "Python 3"
    },
    "language_info": {
      "name": "python"
    }
  },
  "cells": [
    {
      "cell_type": "markdown",
      "source": [
        "#Pracitce\n",
        "1.Create a dictionary shown as { 'A': {'a':1,'b':1,'c':3},'B':{'b':2,'d':2}}\n",
        "\n",
        "2.Transform this dictionary into a DataFrame\n",
        "\n",
        "3.Replace missing entries with 3 (You can use fillna method with the new value as the input).\n",
        "\n",
        "4.Add a new column \"C\" and fill [0,1,2,3]"
      ],
      "metadata": {
        "id": "0TiKuLsmacrg"
      }
    },
    {
      "cell_type": "code",
      "source": [
        "import pandas as pd"
      ],
      "metadata": {
        "id": "jf_iMMbNbDVa"
      },
      "execution_count": 1,
      "outputs": []
    },
    {
      "cell_type": "code",
      "execution_count": 22,
      "metadata": {
        "colab": {
          "base_uri": "https://localhost:8080/"
        },
        "id": "qVjN5_UXaUpW",
        "outputId": "26fc46b0-95b3-4632-9aa3-5a1b08e0c246"
      },
      "outputs": [
        {
          "output_type": "stream",
          "name": "stdout",
          "text": [
            "{'A': {'a': 1, 'b': 1, 'c': 3}, 'B': {'b': 2, 'd': 2}}\n"
          ]
        }
      ],
      "source": [
        "#Create a dictionary\n",
        "dictionary={ 'A': {'a':1,'b':1,'c':3},'B':{'b':2,'d':2} }\n",
        "print(dictionary)"
      ]
    },
    {
      "cell_type": "code",
      "source": [
        "#Transform this dictionary into a DataFrame\n",
        "df=pd.DataFrame(dictionary)\n",
        "print(df)"
      ],
      "metadata": {
        "colab": {
          "base_uri": "https://localhost:8080/"
        },
        "id": "JTshbI-UcSPl",
        "outputId": "9afb86fd-d71e-4a7a-8d81-ddedadd9a8d9"
      },
      "execution_count": 29,
      "outputs": [
        {
          "output_type": "stream",
          "name": "stdout",
          "text": [
            "     A    B\n",
            "a  1.0  NaN\n",
            "b  1.0  2.0\n",
            "c  3.0  NaN\n",
            "d  NaN  2.0\n"
          ]
        }
      ]
    },
    {
      "cell_type": "code",
      "source": [
        "#Replace missing entries with 3\n",
        "df.fillna(3, inplace=True)\n",
        "print(df)"
      ],
      "metadata": {
        "colab": {
          "base_uri": "https://localhost:8080/"
        },
        "id": "eqhC2ZPQblAz",
        "outputId": "b714bcb6-cb86-4215-eaab-422412467e2a"
      },
      "execution_count": 30,
      "outputs": [
        {
          "output_type": "stream",
          "name": "stdout",
          "text": [
            "     A    B\n",
            "a  1.0  3.0\n",
            "b  1.0  2.0\n",
            "c  3.0  3.0\n",
            "d  3.0  2.0\n"
          ]
        }
      ]
    },
    {
      "cell_type": "code",
      "source": [
        "#Add a new column \"C\" and fill [0,1,2,3]\n",
        "df['C'] = [0, 1, 2, 3]\n",
        "print(df)"
      ],
      "metadata": {
        "colab": {
          "base_uri": "https://localhost:8080/"
        },
        "id": "U8FlyaKOcP99",
        "outputId": "de43f2ed-cc91-42ba-897e-4e5d619ba92b"
      },
      "execution_count": 31,
      "outputs": [
        {
          "output_type": "stream",
          "name": "stdout",
          "text": [
            "     A    B  C\n",
            "a  1.0  3.0  0\n",
            "b  1.0  2.0  1\n",
            "c  3.0  3.0  2\n",
            "d  3.0  2.0  3\n"
          ]
        }
      ]
    }
  ]
}