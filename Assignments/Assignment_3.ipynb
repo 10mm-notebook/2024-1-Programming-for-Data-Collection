{
  "nbformat": 4,
  "nbformat_minor": 0,
  "metadata": {
    "colab": {
      "provenance": []
    },
    "kernelspec": {
      "name": "python3",
      "display_name": "Python 3"
    },
    "language_info": {
      "name": "python"
    }
  },
  "cells": [
    {
      "cell_type": "markdown",
      "source": [
        "#Practice 1\n",
        "a) Define a monthly_money function that returns the monthly salary given an annual\n",
        "salary.\n"
      ],
      "metadata": {
        "id": "V64qSyFY7e-I"
      }
    },
    {
      "cell_type": "code",
      "execution_count": 8,
      "metadata": {
        "colab": {
          "base_uri": "https://localhost:8080/"
        },
        "id": "ujFtROvu7TeG",
        "outputId": "d104196e-a702-4284-e3e8-d42f84ebfb65"
      },
      "outputs": [
        {
          "output_type": "execute_result",
          "data": {
            "text/plain": [
              "2500000.0"
            ]
          },
          "metadata": {},
          "execution_count": 8
        }
      ],
      "source": [
        "def monthly_money(annual_salary):\n",
        "  return annual_salary/12\n",
        "\n",
        "monthly_money(30000000)"
      ]
    },
    {
      "cell_type": "markdown",
      "source": [
        "#Practice 2\n",
        "(b) Define a function that takes an arbitrary number of parameters and assigns the\n",
        "maximum value to global variable c without returning."
      ],
      "metadata": {
        "id": "LjCIzQTV7kt2"
      }
    },
    {
      "cell_type": "code",
      "source": [
        "def assign_max_value(number):\n",
        "  global c\n",
        "  c=max(number)\n",
        "\n",
        "assign_max_value([1,2,3,4,5,6,7])\n",
        "print(c)"
      ],
      "metadata": {
        "colab": {
          "base_uri": "https://localhost:8080/"
        },
        "id": "tSqBjbR47nWv",
        "outputId": "c7fadebd-8ecf-40b8-d42c-9251170be4e7"
      },
      "execution_count": 7,
      "outputs": [
        {
          "output_type": "stream",
          "name": "stdout",
          "text": [
            "7\n"
          ]
        }
      ]
    }
  ]
}