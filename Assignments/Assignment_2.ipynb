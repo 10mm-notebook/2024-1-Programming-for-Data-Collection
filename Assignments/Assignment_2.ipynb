{
  "nbformat": 4,
  "nbformat_minor": 0,
  "metadata": {
    "colab": {
      "provenance": []
    },
    "kernelspec": {
      "name": "python3",
      "display_name": "Python 3"
    },
    "language_info": {
      "name": "python"
    }
  },
  "cells": [
    {
      "cell_type": "markdown",
      "source": [
        "#Practice1\n",
        "Make a program that add 20 to input 𝑖 and print the added value. But this program can\n",
        "only print 0~255. That is, if the added value is lower or higher than 0 or 255, 0 or 255\n",
        "should be printed, respectively"
      ],
      "metadata": {
        "id": "kxUuKNiCsVtx"
      }
    },
    {
      "cell_type": "code",
      "execution_count": 3,
      "metadata": {
        "colab": {
          "base_uri": "https://localhost:8080/"
        },
        "id": "nQnEyz_WrQwP",
        "outputId": "e62ef1fb-c83b-4b66-bba2-64e9ebc05c5e"
      },
      "outputs": [
        {
          "output_type": "stream",
          "name": "stdout",
          "text": [
            "236\n",
            "256\n",
            "255\n"
          ]
        }
      ],
      "source": [
        "i=int(input())\n",
        "i+=20\n",
        "print(i)\n",
        "if i>255:\n",
        "  print(255)\n",
        "elif i<0:\n",
        "  print(0)\n",
        "else:\n",
        "  print(i)"
      ]
    },
    {
      "cell_type": "markdown",
      "source": [
        "#Practice2\n",
        "Make multiplication table and print it."
      ],
      "metadata": {
        "id": "sWTHFESustvY"
      }
    },
    {
      "cell_type": "code",
      "source": [
        "for i in range(1, 10):\n",
        "    list = []\n",
        "    for j in range(1, 10):\n",
        "        list.append(i * j)\n",
        "    print(list)\n"
      ],
      "metadata": {
        "colab": {
          "base_uri": "https://localhost:8080/"
        },
        "id": "6oVtK3fHsaX6",
        "outputId": "3bcd8357-2c62-4229-f1ee-f9cf9b8919af"
      },
      "execution_count": 5,
      "outputs": [
        {
          "output_type": "stream",
          "name": "stdout",
          "text": [
            "[1, 2, 3, 4, 5, 6, 7, 8, 9]\n",
            "[2, 4, 6, 8, 10, 12, 14, 16, 18]\n",
            "[3, 6, 9, 12, 15, 18, 21, 24, 27]\n",
            "[4, 8, 12, 16, 20, 24, 28, 32, 36]\n",
            "[5, 10, 15, 20, 25, 30, 35, 40, 45]\n",
            "[6, 12, 18, 24, 30, 36, 42, 48, 54]\n",
            "[7, 14, 21, 28, 35, 42, 49, 56, 63]\n",
            "[8, 16, 24, 32, 40, 48, 56, 64, 72]\n",
            "[9, 18, 27, 36, 45, 54, 63, 72, 81]\n"
          ]
        }
      ]
    }
  ]
}