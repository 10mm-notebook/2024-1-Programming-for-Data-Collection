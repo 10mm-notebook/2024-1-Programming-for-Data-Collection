{
  "nbformat": 4,
  "nbformat_minor": 0,
  "metadata": {
    "colab": {
      "provenance": []
    },
    "kernelspec": {
      "name": "python3",
      "display_name": "Python 3"
    },
    "language_info": {
      "name": "python"
    }
  },
  "cells": [
    {
      "cell_type": "code",
      "execution_count": 2,
      "metadata": {
        "colab": {
          "base_uri": "https://localhost:8080/"
        },
        "id": "KiAChs7HgKa3",
        "outputId": "06f07007-3e6f-467c-dfb0-440bc15909f4"
      },
      "outputs": [
        {
          "output_type": "stream",
          "name": "stdout",
          "text": [
            "Model is created.\n",
            "Model is created.\n",
            "21\n",
            "32\n"
          ]
        }
      ],
      "source": [
        "class Model:\n",
        "    def __init__(self):\n",
        "        print(\"Model is created.\")\n",
        "\n",
        "    def fit(self, a, b):\n",
        "        self.a = a\n",
        "        self.b = b\n",
        "\n",
        "    def predict(self, X):\n",
        "        Y = self.a * X + self.b\n",
        "        return Y\n",
        "\n",
        "Model_1 = Model()\n",
        "Model_1.fit(2, 1)\n",
        "\n",
        "Model_2 = Model()\n",
        "Model_2.fit(3, 2)\n",
        "\n",
        "print(Model_1.predict(10))\n",
        "print(Model_2.predict(10))"
      ]
    }
  ]
}